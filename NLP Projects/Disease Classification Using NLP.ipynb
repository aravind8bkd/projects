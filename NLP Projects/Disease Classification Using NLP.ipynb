{
 "cells": [
  {
   "cell_type": "markdown",
   "id": "dab5e844",
   "metadata": {
    "papermill": {
     "duration": 0.00253,
     "end_time": "2024-07-31T17:11:44.622902",
     "exception": false,
     "start_time": "2024-07-31T17:11:44.620372",
     "status": "completed"
    },
    "tags": []
   },
   "source": [
    "Import dependencies"
   ]
  },
  {
   "cell_type": "code",
   "execution_count": 1,
   "id": "22eb9f26",
   "metadata": {
    "execution": {
     "iopub.execute_input": "2024-07-31T17:11:44.628995Z",
     "iopub.status.busy": "2024-07-31T17:11:44.628587Z",
     "iopub.status.idle": "2024-07-31T17:11:47.366891Z",
     "shell.execute_reply": "2024-07-31T17:11:47.365896Z"
    },
    "papermill": {
     "duration": 2.744513,
     "end_time": "2024-07-31T17:11:47.369732",
     "exception": false,
     "start_time": "2024-07-31T17:11:44.625219",
     "status": "completed"
    },
    "tags": []
   },
   "outputs": [],
   "source": [
    "import pandas as pd # data preprocessing\n",
    "import itertools #confusion matrix\n",
    "import string\n",
    "import numpy as np\n",
    "import seaborn as sns\n",
    "from sklearn.feature_extraction.text import CountVectorizer, TfidfVectorizer\n",
    "from sklearn.model_selection import train_test_split\n",
    "from sklearn.linear_model import PassiveAggressiveClassifier\n",
    "from sklearn.naive_bayes import MultinomialNB\n",
    "from sklearn import metrics\n",
    "import matplotlib.pyplot as plt\n",
    "%matplotlib inline\n",
    "# to show all rows of dataframe\n",
    "pd.set_option('display.max_rows', None)"
   ]
  },
  {
   "cell_type": "code",
   "execution_count": null,
   "id": "fb4d1f92",
   "metadata": {
    "papermill": {
     "duration": 0.001823,
     "end_time": "2024-07-31T17:11:47.373903",
     "exception": false,
     "start_time": "2024-07-31T17:11:47.372080",
     "status": "completed"
    },
    "tags": []
   },
   "outputs": [],
   "source": []
  }
 ],
 "metadata": {
  "kaggle": {
   "accelerator": "none",
   "dataSources": [
    {
     "datasetId": 5475380,
     "sourceId": 9076301,
     "sourceType": "datasetVersion"
    }
   ],
   "dockerImageVersionId": 30746,
   "isGpuEnabled": false,
   "isInternetEnabled": true,
   "language": "python",
   "sourceType": "notebook"
  },
  "kernelspec": {
   "display_name": "Python 3",
   "language": "python",
   "name": "python3"
  },
  "language_info": {
   "codemirror_mode": {
    "name": "ipython",
    "version": 3
   },
   "file_extension": ".py",
   "mimetype": "text/x-python",
   "name": "python",
   "nbconvert_exporter": "python",
   "pygments_lexer": "ipython3",
   "version": "3.10.13"
  },
  "papermill": {
   "default_parameters": {},
   "duration": 6.352229,
   "end_time": "2024-07-31T17:11:47.996878",
   "environment_variables": {},
   "exception": null,
   "input_path": "__notebook__.ipynb",
   "output_path": "__notebook__.ipynb",
   "parameters": {},
   "start_time": "2024-07-31T17:11:41.644649",
   "version": "2.5.0"
  }
 },
 "nbformat": 4,
 "nbformat_minor": 5
}
