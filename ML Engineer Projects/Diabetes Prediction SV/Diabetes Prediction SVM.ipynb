{
 "cells": [
  {
   "cell_type": "markdown",
   "id": "6294ea8a",
   "metadata": {
    "papermill": {
     "duration": 0.002694,
     "end_time": "2024-07-24T15:02:56.397096",
     "exception": false,
     "start_time": "2024-07-24T15:02:56.394402",
     "status": "completed"
    },
    "tags": []
   },
   "source": [
    "Importing the dependencies"
   ]
  },
  {
   "cell_type": "code",
   "execution_count": 1,
   "id": "eaf179bb",
   "metadata": {
    "execution": {
     "iopub.execute_input": "2024-07-24T15:02:56.403540Z",
     "iopub.status.busy": "2024-07-24T15:02:56.403113Z",
     "iopub.status.idle": "2024-07-24T15:02:58.873018Z",
     "shell.execute_reply": "2024-07-24T15:02:58.871780Z"
    },
    "papermill": {
     "duration": 2.476443,
     "end_time": "2024-07-24T15:02:58.875985",
     "exception": false,
     "start_time": "2024-07-24T15:02:56.399542",
     "status": "completed"
    },
    "tags": []
   },
   "outputs": [],
   "source": [
    "import numpy as np\n",
    "import pandas as pd\n",
    "from sklearn.preprocessing import StandardScaler # for standardizing data to a common range\n",
    "from sklearn.model_selection import train_test_split\n",
    "from sklearn import svm\n",
    "from sklearn.metrics import accuracy_score"
   ]
  },
  {
   "cell_type": "code",
   "execution_count": null,
   "id": "21d7dc66",
   "metadata": {
    "papermill": {
     "duration": 0.001983,
     "end_time": "2024-07-24T15:02:58.880437",
     "exception": false,
     "start_time": "2024-07-24T15:02:58.878454",
     "status": "completed"
    },
    "tags": []
   },
   "outputs": [],
   "source": []
  }
 ],
 "metadata": {
  "kaggle": {
   "accelerator": "none",
   "dataSources": [
    {
     "datasetId": 5439771,
     "sourceId": 9025966,
     "sourceType": "datasetVersion"
    }
   ],
   "dockerImageVersionId": 30746,
   "isGpuEnabled": false,
   "isInternetEnabled": true,
   "language": "python",
   "sourceType": "notebook"
  },
  "kernelspec": {
   "display_name": "Python 3",
   "language": "python",
   "name": "python3"
  },
  "language_info": {
   "codemirror_mode": {
    "name": "ipython",
    "version": 3
   },
   "file_extension": ".py",
   "mimetype": "text/x-python",
   "name": "python",
   "nbconvert_exporter": "python",
   "pygments_lexer": "ipython3",
   "version": "3.10.13"
  },
  "papermill": {
   "default_parameters": {},
   "duration": 6.329863,
   "end_time": "2024-07-24T15:02:59.505292",
   "environment_variables": {},
   "exception": null,
   "input_path": "__notebook__.ipynb",
   "output_path": "__notebook__.ipynb",
   "parameters": {},
   "start_time": "2024-07-24T15:02:53.175429",
   "version": "2.5.0"
  }
 },
 "nbformat": 4,
 "nbformat_minor": 5
}
